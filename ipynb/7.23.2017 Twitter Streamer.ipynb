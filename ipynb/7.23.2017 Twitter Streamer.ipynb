{
 "cells": [
  {
   "cell_type": "code",
   "execution_count": 1,
   "metadata": {
    "scrolled": true
   },
   "outputs": [],
   "source": [
    "#pip install pymongo"
   ]
  },
  {
   "cell_type": "code",
   "execution_count": 1,
   "metadata": {},
   "outputs": [],
   "source": [
    "import lib\n",
    "import pandas as pd\n",
    "import json"
   ]
  },
  {
   "cell_type": "code",
   "execution_count": 2,
   "metadata": {},
   "outputs": [],
   "source": [
    "token           = '747260721042329601-CGNM7JwMVT71OoNho0PInTiVJKBlo7l'\n",
    "token_secret    = 'SJQbDqB0o44xnDWwkAnZmpxXUfN4UlX9VSticaRmO8fcv'\n",
    "consumer_key    = '9tPCk8m8EsfILCbKRSFRTXW5I'\n",
    "consumer_secret = '1yr748AohLOXNS4XuWcyqm9OTnG4yZ4YB26qdVnZ5WMOGefzxk'\n",
    "bounding_box = '-118.5137323688,34.0001996344,-118.4702449172,34.0331651696'"
   ]
  },
  {
   "cell_type": "code",
   "execution_count": 3,
   "metadata": {},
   "outputs": [],
   "source": [
    "tweet_iterator = lib.create_tweet_iterator(token, token_secret, consumer_key, consumer_secret, bounding_box)"
   ]
  },
  {
   "cell_type": "code",
   "execution_count": 4,
   "metadata": {},
   "outputs": [],
   "source": [
    "tweet = next(tweet_iterator)"
   ]
  },
  {
   "cell_type": "code",
   "execution_count": 5,
   "metadata": {},
   "outputs": [],
   "source": [
    "tweets = []\n",
    "for i in range(50):\n",
    "    tweet = next(tweet_iterator)\n",
    "    tweets.append(tweet)"
   ]
  },
  {
   "cell_type": "code",
   "execution_count": 6,
   "metadata": {},
   "outputs": [],
   "source": [
    "username = 'stanley'\n",
    "filename = lib.create_timestamped_filename(username)"
   ]
  },
  {
   "cell_type": "code",
   "execution_count": 7,
   "metadata": {},
   "outputs": [],
   "source": [
    "with open(filename, 'w') as outfile:\n",
    "    json.dump(tweets, outfile)"
   ]
  },
  {
   "cell_type": "code",
   "execution_count": 8,
   "metadata": {},
   "outputs": [
    {
     "name": "stdout",
     "output_type": "stream",
     "text": [
      "'7.23.2017 AUTO-2 Twitter Streamer.ipynb'\r\n",
      "'7.23.2017 AUTO Twitter Streamer.ipynb'\r\n",
      "'7.23.2017 Twitter Streamer.ipynb'\r\n",
      " lib.py\r\n",
      " Mongo.zip\r\n",
      "'My First Notebook.ipynb'\r\n",
      " \u001b[0m\u001b[01;34m__pycache__\u001b[0m/\r\n",
      " Pythonic+Sequences.ipynb\r\n",
      " tweets-stanley-2018-07-24_03-42-59-446422.json\r\n",
      " tweets-stanley-2018-07-24_03-47-14-650423.json\r\n",
      " tweets-stanley-2018-07-24_03-48-21-750114.json\r\n",
      " tweets-stanley-2018-07-24_04-00-35-376505.json\r\n",
      " tweets-stanley-2018-07-26_01-52-21-709966.json\r\n",
      " Twitter_Analysis_Pipeline_Student.ipynb\r\n",
      " Twitter+Streamer.ipynb\r\n",
      "'Twitter Streamer - Solution.ipynb'\r\n"
     ]
    }
   ],
   "source": [
    "ls"
   ]
  },
  {
   "cell_type": "code",
   "execution_count": 9,
   "metadata": {},
   "outputs": [],
   "source": [
    "s3_client = lib.create_boto_client()\n",
    "S3_BUCKET = 'uclax-data-science'\n",
    "lib.write_file_to_S3(s3_client, filename, S3_BUCKET)"
   ]
  },
  {
   "cell_type": "code",
   "execution_count": 10,
   "metadata": {},
   "outputs": [],
   "source": [
    "json_list = [x for x in lib.list_files_in_S3_bucket(s3_client, S3_BUCKET) if 'stanley' in x]"
   ]
  },
  {
   "cell_type": "code",
   "execution_count": 11,
   "metadata": {},
   "outputs": [
    {
     "data": {
      "text/plain": [
       "['tweets-stanley-2018-07-24_02-04-13-008476.json',\n",
       " 'tweets-stanley-2018-07-24_02-22-16-555638.json',\n",
       " 'tweets-stanley-2018-07-24_02-22-54-081139.json',\n",
       " 'tweets-stanley-2018-07-24_02-25-59-012050.json',\n",
       " 'tweets-stanley-2018-07-24_02-58-27-153544.json',\n",
       " 'tweets-stanley-2018-07-24_03-06-19-762314.json',\n",
       " 'tweets-stanley-2018-07-24_03-42-59-446422.json',\n",
       " 'tweets-stanley-2018-07-24_03-47-14-650423.json',\n",
       " 'tweets-stanley-2018-07-24_03-48-21-750114.json',\n",
       " 'tweets-stanley-2018-07-26_01-52-21-709966.json']"
      ]
     },
     "execution_count": 11,
     "metadata": {},
     "output_type": "execute_result"
    }
   ],
   "source": [
    "json_list"
   ]
  },
  {
   "cell_type": "code",
   "execution_count": 12,
   "metadata": {},
   "outputs": [],
   "source": [
    "for key in json_list:\n",
    "    tweets_from_s3 = lib.read_object_from_S3(s3_client, key, S3_BUCKET)"
   ]
  },
  {
   "cell_type": "code",
   "execution_count": 13,
   "metadata": {},
   "outputs": [],
   "source": [
    "collection_client = lib.create_mongo_client_to_database_collection('twitter', 'tweets')\n",
    "#collection_client.insert_many(tweets_from_s3)"
   ]
  },
  {
   "cell_type": "code",
   "execution_count": 14,
   "metadata": {},
   "outputs": [],
   "source": [
    "for x in tweets_from_s3:\n",
    "    collection_client.insert_one(x)"
   ]
  },
  {
   "cell_type": "code",
   "execution_count": null,
   "metadata": {},
   "outputs": [],
   "source": []
  }
 ],
 "metadata": {
  "kernelspec": {
   "display_name": "Python 3",
   "language": "python",
   "name": "python3"
  },
  "language_info": {
   "codemirror_mode": {
    "name": "ipython",
    "version": 3
   },
   "file_extension": ".py",
   "mimetype": "text/x-python",
   "name": "python",
   "nbconvert_exporter": "python",
   "pygments_lexer": "ipython3",
   "version": "3.6.5"
  }
 },
 "nbformat": 4,
 "nbformat_minor": 2
}
