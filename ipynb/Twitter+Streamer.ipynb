{
 "cells": [
  {
   "cell_type": "markdown",
   "metadata": {},
   "source": [
    "Use `pip` to install `twitter`."
   ]
  },
  {
   "cell_type": "code",
   "execution_count": 2,
   "metadata": {},
   "outputs": [
    {
     "name": "stdout",
     "output_type": "stream",
     "text": [
      "Collecting twitter\n",
      "  Downloading https://files.pythonhosted.org/packages/85/e2/f602e3f584503f03e0389491b251464f8ecfe2596ac86e6b9068fe7419d3/twitter-1.18.0-py2.py3-none-any.whl (54kB)\n",
      "\u001b[K    94% |██████████████████████████████▏ | 51kB 3.6MB/s eta 0:00:011    100% |████████████████████████████████| 61kB 2.7MB/s \n",
      "\u001b[?25hInstalling collected packages: twitter\n",
      "Successfully installed twitter-1.18.0\n",
      "\u001b[33mYou are using pip version 9.0.3, however version 10.0.1 is available.\n",
      "You should consider upgrading via the 'pip install --upgrade pip' command.\u001b[0m\n"
     ]
    }
   ],
   "source": [
    "!pip install twitter"
   ]
  },
  {
   "cell_type": "markdown",
   "metadata": {},
   "source": [
    "Import `TwitterStream` and `OAuth` from `twitter`."
   ]
  },
  {
   "cell_type": "code",
   "execution_count": 164,
   "metadata": {},
   "outputs": [],
   "source": [
    "from twitter import TwitterStream, OAuth"
   ]
  },
  {
   "cell_type": "markdown",
   "metadata": {},
   "source": [
    "### `oauth`"
   ]
  },
  {
   "cell_type": "markdown",
   "metadata": {},
   "source": [
    "Create a new object called `oauth` using `OAuth`. \n",
    "\n",
    "    OAuth(token, token_secret, consumer_key, consumer_secret)"
   ]
  },
  {
   "cell_type": "code",
   "execution_count": 165,
   "metadata": {},
   "outputs": [],
   "source": [
    "token           = '747260721042329601-CGNM7JwMVT71OoNho0PInTiVJKBlo7l'\n",
    "token_secret    = 'SJQbDqB0o44xnDWwkAnZmpxXUfN4UlX9VSticaRmO8fcv'\n",
    "consumer_key    = '9tPCk8m8EsfILCbKRSFRTXW5I'\n",
    "consumer_secret = '1yr748AohLOXNS4XuWcyqm9OTnG4yZ4YB26qdVnZ5WMOGefzxk'"
   ]
  },
  {
   "cell_type": "code",
   "execution_count": 166,
   "metadata": {},
   "outputs": [
    {
     "data": {
      "text/plain": [
       "twitter.oauth.OAuth"
      ]
     },
     "execution_count": 166,
     "metadata": {},
     "output_type": "execute_result"
    }
   ],
   "source": [
    "oauth = OAuth(token, token_secret, consumer_key, consumer_secret)\n",
    "type(oauth)"
   ]
  },
  {
   "cell_type": "markdown",
   "metadata": {},
   "source": [
    "Create a new object called `twitter_stream` using `TwitterStream`.\n",
    "\n",
    "Use the argument `auth=oauth` referencing the `oauth` object you just made."
   ]
  },
  {
   "cell_type": "markdown",
   "metadata": {},
   "source": [
    "### `twitter_stream`"
   ]
  },
  {
   "cell_type": "code",
   "execution_count": 167,
   "metadata": {},
   "outputs": [],
   "source": [
    "twitter_stream = TwitterStream(auth=oauth)"
   ]
  },
  {
   "cell_type": "markdown",
   "metadata": {},
   "source": [
    "### `bounding_box`"
   ]
  },
  {
   "cell_type": "markdown",
   "metadata": {},
   "source": [
    "Create a string called `bounding_box`. The string should contain the geo-coordinates of a bounding box separated by commas. These values are for Santa Monica:\n",
    "\n",
    "    -118.5137323688,34.0001996344,-118.4702449172,34.0331651696\n",
    "    \n",
    "You can make your own here: https://boundingbox.klokantech.com. Be sure to specify CSV RAW to get the values in this format.\n",
    "\n",
    "![](https://www.evernote.com/l/AAH3H9KGE6hD9JpPJPFncw09exRyoYSid5IB/image.png)"
   ]
  },
  {
   "cell_type": "code",
   "execution_count": 168,
   "metadata": {},
   "outputs": [],
   "source": [
    "bounding_box = '-118.5137323688,34.0001996344,-118.4702449172,34.0331651696'"
   ]
  },
  {
   "cell_type": "markdown",
   "metadata": {},
   "source": [
    "### `tweet_iterator`\n",
    "\n",
    "Create an object called `tweet_iterator`. \n",
    "\n",
    "1. Use `twitter_stream`.\n",
    "1. Apply `.statuses` to grab statuses.\n",
    "1. Apply a `.filter()` with the argument `locations=bounding_box`."
   ]
  },
  {
   "cell_type": "code",
   "execution_count": 169,
   "metadata": {},
   "outputs": [],
   "source": [
    "tweet_iterator = twitter_stream.statuses.filter(locations=bounding_box)"
   ]
  },
  {
   "cell_type": "markdown",
   "metadata": {},
   "source": [
    "Get the next value from the `tweet_iterator` and store it as the variable `this_tweet`."
   ]
  },
  {
   "cell_type": "code",
   "execution_count": 170,
   "metadata": {},
   "outputs": [],
   "source": [
    "this_tweet = next(tweet_iterator)"
   ]
  },
  {
   "cell_type": "markdown",
   "metadata": {},
   "source": [
    "\n",
    "What is the type of `this_tweet`?"
   ]
  },
  {
   "cell_type": "code",
   "execution_count": 171,
   "metadata": {},
   "outputs": [
    {
     "data": {
      "text/plain": [
       "twitter.api.TwitterDictResponse"
      ]
     },
     "execution_count": 171,
     "metadata": {},
     "output_type": "execute_result"
    }
   ],
   "source": [
    "type(this_tweet)"
   ]
  },
  {
   "cell_type": "markdown",
   "metadata": {},
   "source": [
    "Display the keys of `this_tweet`."
   ]
  },
  {
   "cell_type": "code",
   "execution_count": 172,
   "metadata": {},
   "outputs": [
    {
     "data": {
      "text/plain": [
       "dict_keys(['created_at', 'id', 'id_str', 'text', 'display_text_range', 'source', 'truncated', 'in_reply_to_status_id', 'in_reply_to_status_id_str', 'in_reply_to_user_id', 'in_reply_to_user_id_str', 'in_reply_to_screen_name', 'user', 'geo', 'coordinates', 'place', 'contributors', 'is_quote_status', 'quote_count', 'reply_count', 'retweet_count', 'favorite_count', 'entities', 'favorited', 'retweeted', 'filter_level', 'lang', 'timestamp_ms'])"
      ]
     },
     "execution_count": 172,
     "metadata": {},
     "output_type": "execute_result"
    }
   ],
   "source": [
    "this_tweet.keys()"
   ]
  },
  {
   "cell_type": "markdown",
   "metadata": {},
   "source": [
    "Display the `text` and `user` of `this_tweet`."
   ]
  },
  {
   "cell_type": "code",
   "execution_count": 187,
   "metadata": {},
   "outputs": [
    {
     "data": {
      "text/plain": [
       "'@kimgoodwin So awesome'"
      ]
     },
     "execution_count": 187,
     "metadata": {},
     "output_type": "execute_result"
    }
   ],
   "source": [
    "this_tweet['text']"
   ]
  },
  {
   "cell_type": "code",
   "execution_count": 174,
   "metadata": {},
   "outputs": [
    {
     "data": {
      "text/plain": [
       "{'id': 34921692,\n",
       " 'id_str': '34921692',\n",
       " 'name': 'Paola Paulino',\n",
       " 'screen_name': 'paoplayz',\n",
       " 'location': 'Shenzhen, China',\n",
       " 'url': 'https://www.linkedin.com/in/paolapaulino/',\n",
       " 'description': 'President @VRARA_shenzhen @thevrara | Director #XR Edu @iborganization #AKD Schools @China #HongKong | Developed for @HoloLens @XboxOne @Xbox #XLBA @kinect 💪',\n",
       " 'translator_type': 'none',\n",
       " 'protected': False,\n",
       " 'verified': False,\n",
       " 'followers_count': 1246,\n",
       " 'friends_count': 1946,\n",
       " 'listed_count': 91,\n",
       " 'favourites_count': 8626,\n",
       " 'statuses_count': 3854,\n",
       " 'created_at': 'Fri Apr 24 13:17:52 +0000 2009',\n",
       " 'utc_offset': None,\n",
       " 'time_zone': None,\n",
       " 'geo_enabled': True,\n",
       " 'lang': 'en',\n",
       " 'contributors_enabled': False,\n",
       " 'is_translator': False,\n",
       " 'profile_background_color': '1A1B1F',\n",
       " 'profile_background_image_url': 'http://abs.twimg.com/images/themes/theme9/bg.gif',\n",
       " 'profile_background_image_url_https': 'https://abs.twimg.com/images/themes/theme9/bg.gif',\n",
       " 'profile_background_tile': False,\n",
       " 'profile_link_color': '2FC2EF',\n",
       " 'profile_sidebar_border_color': '000000',\n",
       " 'profile_sidebar_fill_color': '252429',\n",
       " 'profile_text_color': '666666',\n",
       " 'profile_use_background_image': True,\n",
       " 'profile_image_url': 'http://pbs.twimg.com/profile_images/553775014235734016/ZYtHSBKm_normal.png',\n",
       " 'profile_image_url_https': 'https://pbs.twimg.com/profile_images/553775014235734016/ZYtHSBKm_normal.png',\n",
       " 'profile_banner_url': 'https://pbs.twimg.com/profile_banners/34921692/1420865165',\n",
       " 'default_profile': False,\n",
       " 'default_profile_image': False,\n",
       " 'following': None,\n",
       " 'follow_request_sent': None,\n",
       " 'notifications': None}"
      ]
     },
     "execution_count": 174,
     "metadata": {},
     "output_type": "execute_result"
    }
   ],
   "source": [
    "this_tweet['user']"
   ]
  },
  {
   "cell_type": "markdown",
   "metadata": {},
   "source": [
    "## Collect Tweets\n",
    "\n",
    "Create an empty list called `tweets`.\n",
    "\n",
    "Use a `for`-loop to collect ten tweets and add them to this list."
   ]
  },
  {
   "cell_type": "code",
   "execution_count": 175,
   "metadata": {},
   "outputs": [],
   "source": [
    "tweets = []\n",
    "for i in range(50):\n",
    "    this_tweet = next(tweet_iterator)\n",
    "    tweets.append(this_tweet['text'])"
   ]
  },
  {
   "cell_type": "markdown",
   "metadata": {},
   "source": [
    "Display `tweets` in a DataFrame."
   ]
  },
  {
   "cell_type": "code",
   "execution_count": 176,
   "metadata": {},
   "outputs": [
    {
     "data": {
      "text/html": [
       "<div>\n",
       "<style scoped>\n",
       "    .dataframe tbody tr th:only-of-type {\n",
       "        vertical-align: middle;\n",
       "    }\n",
       "\n",
       "    .dataframe tbody tr th {\n",
       "        vertical-align: top;\n",
       "    }\n",
       "\n",
       "    .dataframe thead th {\n",
       "        text-align: right;\n",
       "    }\n",
       "</style>\n",
       "<table border=\"1\" class=\"dataframe\">\n",
       "  <thead>\n",
       "    <tr style=\"text-align: right;\">\n",
       "      <th></th>\n",
       "      <th>0</th>\n",
       "    </tr>\n",
       "  </thead>\n",
       "  <tbody>\n",
       "    <tr>\n",
       "      <th>0</th>\n",
       "      <td>Wait, what?</td>\n",
       "    </tr>\n",
       "    <tr>\n",
       "      <th>1</th>\n",
       "      <td>The kommondandt concurs.</td>\n",
       "    </tr>\n",
       "    <tr>\n",
       "      <th>2</th>\n",
       "      <td>Putting that gown today made me realize so muc...</td>\n",
       "    </tr>\n",
       "    <tr>\n",
       "      <th>3</th>\n",
       "      <td>lesson of the night. don’t steal from Boot Bar...</td>\n",
       "    </tr>\n",
       "    <tr>\n",
       "      <th>4</th>\n",
       "      <td>@tedlieu This is the new Trump emoji. 🤡</td>\n",
       "    </tr>\n",
       "    <tr>\n",
       "      <th>5</th>\n",
       "      <td>Where’s my therapist when i need her</td>\n",
       "    </tr>\n",
       "    <tr>\n",
       "      <th>6</th>\n",
       "      <td>@michaelkammes But it's a sing a long!! https:...</td>\n",
       "    </tr>\n",
       "    <tr>\n",
       "      <th>7</th>\n",
       "      <td>https://t.co/bo9YHkOpIs</td>\n",
       "    </tr>\n",
       "    <tr>\n",
       "      <th>8</th>\n",
       "      <td>Aw I swallowed that foot long 😩</td>\n",
       "    </tr>\n",
       "    <tr>\n",
       "      <th>9</th>\n",
       "      <td>A drive to the bay to see my brother is guna d...</td>\n",
       "    </tr>\n",
       "    <tr>\n",
       "      <th>10</th>\n",
       "      <td>I need you in a closer focus https://t.co/7TF0...</td>\n",
       "    </tr>\n",
       "    <tr>\n",
       "      <th>11</th>\n",
       "      <td>Like I said https://t.co/TuyygFOiUY</td>\n",
       "    </tr>\n",
       "    <tr>\n",
       "      <th>12</th>\n",
       "      <td>@Keanboi27 @reginevalcasid Gusto mo mapanood s...</td>\n",
       "    </tr>\n",
       "    <tr>\n",
       "      <th>13</th>\n",
       "      <td>@loudibella @RealLuisCollazo @NYCBLive @Bryant...</td>\n",
       "    </tr>\n",
       "    <tr>\n",
       "      <th>14</th>\n",
       "      <td>my little brother is probably the funniest per...</td>\n",
       "    </tr>\n",
       "    <tr>\n",
       "      <th>15</th>\n",
       "      <td>@AmaraBaptist U r actually the best</td>\n",
       "    </tr>\n",
       "    <tr>\n",
       "      <th>16</th>\n",
       "      <td>This cruel bastard!</td>\n",
       "    </tr>\n",
       "    <tr>\n",
       "      <th>17</th>\n",
       "      <td>@csd @medit8now @kylegriffin1 Yes, the laughin...</td>\n",
       "    </tr>\n",
       "    <tr>\n",
       "      <th>18</th>\n",
       "      <td>GYM TIME FUCKERS! 😳</td>\n",
       "    </tr>\n",
       "    <tr>\n",
       "      <th>19</th>\n",
       "      <td>@themothboy @FoxBusiness @POTUS @IvankaTrump S...</td>\n",
       "    </tr>\n",
       "    <tr>\n",
       "      <th>20</th>\n",
       "      <td>If she wear different type of socks she got go...</td>\n",
       "    </tr>\n",
       "    <tr>\n",
       "      <th>21</th>\n",
       "      <td>@shirhallelujah @unlikelyfanatic Just got home...</td>\n",
       "    </tr>\n",
       "    <tr>\n",
       "      <th>22</th>\n",
       "      <td>@oh_dionysis @Mr_Confident_ His too @__Sal</td>\n",
       "    </tr>\n",
       "    <tr>\n",
       "      <th>23</th>\n",
       "      <td>@DonaldJTrumpJr @DailyCaller 😂😂😂 Poor baby...d...</td>\n",
       "    </tr>\n",
       "    <tr>\n",
       "      <th>24</th>\n",
       "      <td>hi luv https://t.co/aydfrodde2</td>\n",
       "    </tr>\n",
       "    <tr>\n",
       "      <th>25</th>\n",
       "      <td>By Far, the Best @dronecoma Song In Ages. Bett...</td>\n",
       "    </tr>\n",
       "    <tr>\n",
       "      <th>26</th>\n",
       "      <td>@ChrisAssMiller This is why I like you</td>\n",
       "    </tr>\n",
       "    <tr>\n",
       "      <th>27</th>\n",
       "      <td>@Lawrence A total simbiotic leach on the dear ...</td>\n",
       "    </tr>\n",
       "    <tr>\n",
       "      <th>28</th>\n",
       "      <td>@_818teflondon @Paulllyyyyyy @johnny_gee63 @ja...</td>\n",
       "    </tr>\n",
       "    <tr>\n",
       "      <th>29</th>\n",
       "      <td>@cvroliuv_i Daaam date already :/ cboy needs a...</td>\n",
       "    </tr>\n",
       "    <tr>\n",
       "      <th>30</th>\n",
       "      <td>Ollie is literally cleaning the bottom of Nick...</td>\n",
       "    </tr>\n",
       "    <tr>\n",
       "      <th>31</th>\n",
       "      <td>@MiguelDaCutie MW2 Prestige edition 😤</td>\n",
       "    </tr>\n",
       "    <tr>\n",
       "      <th>32</th>\n",
       "      <td>https://t.co/vWXrv1hLGi</td>\n",
       "    </tr>\n",
       "    <tr>\n",
       "      <th>33</th>\n",
       "      <td>Some people look at my life and say omg it’s s...</td>\n",
       "    </tr>\n",
       "    <tr>\n",
       "      <th>34</th>\n",
       "      <td>@88mugsy88 cookies suck</td>\n",
       "    </tr>\n",
       "    <tr>\n",
       "      <th>35</th>\n",
       "      <td>Youth of America!!!</td>\n",
       "    </tr>\n",
       "    <tr>\n",
       "      <th>36</th>\n",
       "      <td>imagine losing me</td>\n",
       "    </tr>\n",
       "    <tr>\n",
       "      <th>37</th>\n",
       "      <td>HE’S BEATING HIS HEART IN GALLIFREYAN MORSE CO...</td>\n",
       "    </tr>\n",
       "    <tr>\n",
       "      <th>38</th>\n",
       "      <td>Niggas out here bein Xtra safe smhhh roll the ...</td>\n",
       "    </tr>\n",
       "    <tr>\n",
       "      <th>39</th>\n",
       "      <td>USGS reports a M0.38 #earthquake 7km SE of Val...</td>\n",
       "    </tr>\n",
       "    <tr>\n",
       "      <th>40</th>\n",
       "      <td>Socialite, Influencer, Model, &amp;amp; Actress Gi...</td>\n",
       "    </tr>\n",
       "    <tr>\n",
       "      <th>41</th>\n",
       "      <td>@kevinsmpark @MengTo 🙌</td>\n",
       "    </tr>\n",
       "    <tr>\n",
       "      <th>42</th>\n",
       "      <td>@realDonaldTrump Traitor! #RussianCollusion #R...</td>\n",
       "    </tr>\n",
       "    <tr>\n",
       "      <th>43</th>\n",
       "      <td>@katiesalazar  https://t.co/3Qhn2Zd0Ms</td>\n",
       "    </tr>\n",
       "    <tr>\n",
       "      <th>44</th>\n",
       "      <td>Family trip INTO THE FOREST nazzy_peace skater...</td>\n",
       "    </tr>\n",
       "    <tr>\n",
       "      <th>45</th>\n",
       "      <td>So excited, my son fixed the bug ....Internet....</td>\n",
       "    </tr>\n",
       "    <tr>\n",
       "      <th>46</th>\n",
       "      <td>We may not always be perfect halves, but you m...</td>\n",
       "    </tr>\n",
       "    <tr>\n",
       "      <th>47</th>\n",
       "      <td>And especially Lake Spuckly!</td>\n",
       "    </tr>\n",
       "    <tr>\n",
       "      <th>48</th>\n",
       "      <td>#TeamOhana I’m so stupid for not posting this</td>\n",
       "    </tr>\n",
       "    <tr>\n",
       "      <th>49</th>\n",
       "      <td>@kimgoodwin So awesome</td>\n",
       "    </tr>\n",
       "  </tbody>\n",
       "</table>\n",
       "</div>"
      ],
      "text/plain": [
       "                                                    0\n",
       "0                                         Wait, what?\n",
       "1                            The kommondandt concurs.\n",
       "2   Putting that gown today made me realize so muc...\n",
       "3   lesson of the night. don’t steal from Boot Bar...\n",
       "4             @tedlieu This is the new Trump emoji. 🤡\n",
       "5                Where’s my therapist when i need her\n",
       "6   @michaelkammes But it's a sing a long!! https:...\n",
       "7                             https://t.co/bo9YHkOpIs\n",
       "8                     Aw I swallowed that foot long 😩\n",
       "9   A drive to the bay to see my brother is guna d...\n",
       "10  I need you in a closer focus https://t.co/7TF0...\n",
       "11                Like I said https://t.co/TuyygFOiUY\n",
       "12  @Keanboi27 @reginevalcasid Gusto mo mapanood s...\n",
       "13  @loudibella @RealLuisCollazo @NYCBLive @Bryant...\n",
       "14  my little brother is probably the funniest per...\n",
       "15                @AmaraBaptist U r actually the best\n",
       "16                                This cruel bastard!\n",
       "17  @csd @medit8now @kylegriffin1 Yes, the laughin...\n",
       "18                                GYM TIME FUCKERS! 😳\n",
       "19  @themothboy @FoxBusiness @POTUS @IvankaTrump S...\n",
       "20  If she wear different type of socks she got go...\n",
       "21  @shirhallelujah @unlikelyfanatic Just got home...\n",
       "22         @oh_dionysis @Mr_Confident_ His too @__Sal\n",
       "23  @DonaldJTrumpJr @DailyCaller 😂😂😂 Poor baby...d...\n",
       "24                     hi luv https://t.co/aydfrodde2\n",
       "25  By Far, the Best @dronecoma Song In Ages. Bett...\n",
       "26             @ChrisAssMiller This is why I like you\n",
       "27  @Lawrence A total simbiotic leach on the dear ...\n",
       "28  @_818teflondon @Paulllyyyyyy @johnny_gee63 @ja...\n",
       "29  @cvroliuv_i Daaam date already :/ cboy needs a...\n",
       "30  Ollie is literally cleaning the bottom of Nick...\n",
       "31              @MiguelDaCutie MW2 Prestige edition 😤\n",
       "32                            https://t.co/vWXrv1hLGi\n",
       "33  Some people look at my life and say omg it’s s...\n",
       "34                            @88mugsy88 cookies suck\n",
       "35                                Youth of America!!!\n",
       "36                                  imagine losing me\n",
       "37  HE’S BEATING HIS HEART IN GALLIFREYAN MORSE CO...\n",
       "38  Niggas out here bein Xtra safe smhhh roll the ...\n",
       "39  USGS reports a M0.38 #earthquake 7km SE of Val...\n",
       "40  Socialite, Influencer, Model, &amp; Actress Gi...\n",
       "41                             @kevinsmpark @MengTo 🙌\n",
       "42  @realDonaldTrump Traitor! #RussianCollusion #R...\n",
       "43             @katiesalazar  https://t.co/3Qhn2Zd0Ms\n",
       "44  Family trip INTO THE FOREST nazzy_peace skater...\n",
       "45  So excited, my son fixed the bug ....Internet....\n",
       "46  We may not always be perfect halves, but you m...\n",
       "47                       And especially Lake Spuckly!\n",
       "48      #TeamOhana I’m so stupid for not posting this\n",
       "49                             @kimgoodwin So awesome"
      ]
     },
     "execution_count": 176,
     "metadata": {},
     "output_type": "execute_result"
    }
   ],
   "source": [
    "import pandas as pd\n",
    "pd.DataFrame(tweets)"
   ]
  },
  {
   "cell_type": "markdown",
   "metadata": {},
   "source": [
    "Display just the text of the tweets using DataFrame."
   ]
  },
  {
   "cell_type": "code",
   "execution_count": 177,
   "metadata": {},
   "outputs": [
    {
     "name": "stdout",
     "output_type": "stream",
     "text": [
      "Wait, what?\n",
      "The kommondandt concurs.\n",
      "Putting that gown today made me realize so much and I’m happy to say I’m proud of myself after everything I’ve been through 😤\n",
      "lesson of the night. don’t steal from Boot Barn or the Hire/Hilvers clan will track you down...\n",
      "@tedlieu This is the new Trump emoji. 🤡\n",
      "Where’s my therapist when i need her\n",
      "@michaelkammes But it's a sing a long!! https://t.co/W7zhz580XJ\n",
      "https://t.co/bo9YHkOpIs\n",
      "Aw I swallowed that foot long 😩\n",
      "A drive to the bay to see my brother is guna do me right 💭\n",
      "I need you in a closer focus https://t.co/7TF0AGrlep\n",
      "Like I said https://t.co/TuyygFOiUY\n",
      "@Keanboi27 @reginevalcasid Gusto mo mapanood si Whitney? Char\n",
      "@loudibella @RealLuisCollazo @NYCBLive @BryantPerrella Great card\n",
      "my little brother is probably the funniest person i know\n",
      "@AmaraBaptist U r actually the best\n",
      "This cruel bastard!\n",
      "@csd @medit8now @kylegriffin1 Yes, the laughing surely gave him fits.\n",
      "GYM TIME FUCKERS! 😳\n",
      "@themothboy @FoxBusiness @POTUS @IvankaTrump She’s an Amazing #AmericanWoman and Patriot.. sorry your so blinded and #Brainwashed\n",
      "If she wear different type of socks she got good pussy\n",
      "@shirhallelujah @unlikelyfanatic Just got home and immediately took two Benadryl 👌🏼\n",
      "@oh_dionysis @Mr_Confident_ His too @__Sal\n",
      "@DonaldJTrumpJr @DailyCaller 😂😂😂 Poor baby...daddy been treated badly...aww TRAITOR! https://t.co/dC1eiBsV1y\n",
      "hi luv https://t.co/aydfrodde2\n",
      "By Far, the Best @dronecoma Song In Ages. Better Than Anything I've Ever Written (and Certainly Sung)… https://t.co/WmeANbP0ZY\n",
      "@ChrisAssMiller This is why I like you\n",
      "@Lawrence A total simbiotic leach on the dear leader, without the semblance of ethics, care and concern for our con… https://t.co/SsvXBrWht3\n",
      "@_818teflondon @Paulllyyyyyy @johnny_gee63 @jalessttt @_lemonicaa You a fool bruh!😂\n",
      "@cvroliuv_i Daaam date already :/ cboy needs a happily ever after 🎉\n",
      "Ollie is literally cleaning the bottom of Nick's feet. Ok\n",
      "@MiguelDaCutie MW2 Prestige edition 😤\n",
      "https://t.co/vWXrv1hLGi\n",
      "Some people look at my life and say omg it’s so perfect but only if you knew the half.\n",
      "@88mugsy88 cookies suck\n",
      "Youth of America!!!\n",
      "imagine losing me\n",
      "HE’S BEATING HIS HEART IN GALLIFREYAN MORSE CODE. #DoctorWho https://t.co/eTwCODb24y\n",
      "Niggas out here bein Xtra safe smhhh roll the dice man!!! 🤣🤣\n",
      "USGS reports a M0.38 #earthquake 7km SE of Valle Vista, CA on 7/20/18 @ 3:47:50 UTC https://t.co/3XAt0ozd4q #quake\n",
      "Socialite, Influencer, Model, &amp; Actress Gigi Gorgeous joined us on the show today to talk stereotypes, online bully… https://t.co/utnTN3S38d\n",
      "@kevinsmpark @MengTo 🙌\n",
      "@realDonaldTrump Traitor! #RussianCollusion #RussianPuppet #TraitorInTheWhiteHouse #TraitorTrump\n",
      "@katiesalazar  https://t.co/3Qhn2Zd0Ms\n",
      "Family trip INTO THE FOREST nazzy_peace skatergirlkai  #family #familytrip #familytime #portolastatepark #lahonda… https://t.co/GF4PDlvF53\n",
      "So excited, my son fixed the bug ....Internet. Missed all of you and hope you had a stress free day. Let’s see what… https://t.co/E814ySAErG\n",
      "We may not always be perfect halves, but you make me whole.❤️ https://t.co/oiD2pTEfrS\n",
      "And especially Lake Spuckly!\n",
      "#TeamOhana I’m so stupid for not posting this\n",
      "@kimgoodwin So awesome\n"
     ]
    }
   ],
   "source": [
    "for x in tweets:\n",
    "    print(x)"
   ]
  },
  {
   "cell_type": "markdown",
   "metadata": {},
   "source": [
    "What is the type of `tweets`?"
   ]
  },
  {
   "cell_type": "code",
   "execution_count": 178,
   "metadata": {},
   "outputs": [
    {
     "data": {
      "text/plain": [
       "list"
      ]
     },
     "execution_count": 178,
     "metadata": {},
     "output_type": "execute_result"
    }
   ],
   "source": [
    "type(tweets)"
   ]
  },
  {
   "cell_type": "markdown",
   "metadata": {},
   "source": [
    "Write a list comprehension to display the type of each of the objects in `tweets`."
   ]
  },
  {
   "cell_type": "code",
   "execution_count": 179,
   "metadata": {},
   "outputs": [
    {
     "data": {
      "text/plain": [
       "[str,\n",
       " str,\n",
       " str,\n",
       " str,\n",
       " str,\n",
       " str,\n",
       " str,\n",
       " str,\n",
       " str,\n",
       " str,\n",
       " str,\n",
       " str,\n",
       " str,\n",
       " str,\n",
       " str,\n",
       " str,\n",
       " str,\n",
       " str,\n",
       " str,\n",
       " str,\n",
       " str,\n",
       " str,\n",
       " str,\n",
       " str,\n",
       " str,\n",
       " str,\n",
       " str,\n",
       " str,\n",
       " str,\n",
       " str,\n",
       " str,\n",
       " str,\n",
       " str,\n",
       " str,\n",
       " str,\n",
       " str,\n",
       " str,\n",
       " str,\n",
       " str,\n",
       " str,\n",
       " str,\n",
       " str,\n",
       " str,\n",
       " str,\n",
       " str,\n",
       " str,\n",
       " str,\n",
       " str,\n",
       " str,\n",
       " str]"
      ]
     },
     "execution_count": 179,
     "metadata": {},
     "output_type": "execute_result"
    }
   ],
   "source": [
    "[type(tweet) for tweet in tweets]"
   ]
  },
  {
   "cell_type": "markdown",
   "metadata": {},
   "source": [
    "Import the `json` library."
   ]
  },
  {
   "cell_type": "code",
   "execution_count": 180,
   "metadata": {},
   "outputs": [],
   "source": [
    "import json"
   ]
  },
  {
   "cell_type": "markdown",
   "metadata": {},
   "source": [
    "Create an object called `tweets_string` using `json.dumps()`.\n",
    "\n",
    "Display the first 500 characters of this string. "
   ]
  },
  {
   "cell_type": "code",
   "execution_count": 181,
   "metadata": {},
   "outputs": [
    {
     "data": {
      "text/plain": [
       "'[\"Wait, what?\", \"The kommondandt concurs.\", \"Putting that gown today made me realize so much and I\\\\u2019m happy to say I\\\\u2019m proud of myself after everything I\\\\u2019ve been through \\\\ud83d\\\\ude24\", \"lesson of the night. don\\\\u2019t steal from Boot Barn or the Hire/Hilvers clan will track you down...\", \"@tedlieu This is the new Trump emoji. \\\\ud83e\\\\udd21\", \"Where\\\\u2019s my therapist when i need her\", \"@michaelkammes But it\\'s a sing a long!! https://t.co/W7zhz580XJ\", \"https://t.co/bo9YHkOpIs\", \"Aw I swallowed that foot long \\\\ud83d\\\\ude29\", \"A drive to the bay to see my brother is guna do me right \\\\ud83d\\\\udcad\", \"I need you in a closer focus https://t.co/7TF0AGrlep\", \"Like I said https://t.co/TuyygFOiUY\", \"@Keanboi27 @reginevalcasid Gusto mo mapanood si Whitney? Char\", \"@loudibella @RealLuisCollazo @NYCBLive @BryantPerrella Great card\", \"my little brother is probably the funniest person i know\", \"@AmaraBaptist U r actually the best\", \"This cruel bastard!\", \"@csd @medit8now @kylegriffin1 Yes, the laughing surely gave him fits.\", \"GYM TIME FUCKERS! \\\\ud83d\\\\ude33\", \"@themothboy @FoxBusiness @POTUS @IvankaTrump She\\\\u2019s an Amazing #AmericanWoman and Patriot.. sorry your so blinded and #Brainwashed\", \"If she wear different type of socks she got good pussy\", \"@shirhallelujah @unlikelyfanatic Just got home and immediately took two Benadryl \\\\ud83d\\\\udc4c\\\\ud83c\\\\udffc\", \"@oh_dionysis @Mr_Confident_ His too @__Sal\", \"@DonaldJTrumpJr @DailyCaller \\\\ud83d\\\\ude02\\\\ud83d\\\\ude02\\\\ud83d\\\\ude02 Poor baby...daddy been treated badly...aww TRAITOR! https://t.co/dC1eiBsV1y\", \"hi luv https://t.co/aydfrodde2\", \"By Far, the Best @dronecoma Song In Ages. Better Than Anything I\\'ve Ever Written (and Certainly Sung)\\\\u2026 https://t.co/WmeANbP0ZY\", \"@ChrisAssMiller This is why I like you\", \"@Lawrence A total simbiotic leach on the dear leader, without the semblance of ethics, care and concern for our con\\\\u2026 https://t.co/SsvXBrWht3\", \"@_818teflondon @Paulllyyyyyy @johnny_gee63 @jalessttt @_lemonicaa You a fool bruh!\\\\ud83d\\\\ude02\", \"@cvroliuv_i Daaam date already :/ cboy needs a happily ever after \\\\ud83c\\\\udf89\", \"Ollie is literally cleaning the bottom of Nick\\'s feet. Ok\", \"@MiguelDaCutie MW2 Prestige edition \\\\ud83d\\\\ude24\", \"https://t.co/vWXrv1hLGi\", \"Some people look at my life and say omg it\\\\u2019s so perfect but only if you knew the half.\", \"@88mugsy88 cookies suck\", \"Youth of America!!!\", \"imagine losing me\", \"HE\\\\u2019S BEATING HIS HEART IN GALLIFREYAN MORSE CODE. #DoctorWho https://t.co/eTwCODb24y\", \"Niggas out here bein Xtra safe smhhh roll the dice man!!! \\\\ud83e\\\\udd23\\\\ud83e\\\\udd23\", \"USGS reports a M0.38 #earthquake 7km SE of Valle Vista, CA on 7/20/18 @ 3:47:50 UTC https://t.co/3XAt0ozd4q #quake\", \"Socialite, Influencer, Model, &amp; Actress Gigi Gorgeous joined us on the show today to talk stereotypes, online bully\\\\u2026 https://t.co/utnTN3S38d\", \"@kevinsmpark @MengTo \\\\ud83d\\\\ude4c\", \"@realDonaldTrump Traitor! #RussianCollusion #RussianPuppet #TraitorInTheWhiteHouse #TraitorTrump\", \"@katiesalazar  https://t.co/3Qhn2Zd0Ms\", \"Family trip INTO THE FOREST nazzy_peace skatergirlkai  #family #familytrip #familytime #portolastatepark #lahonda\\\\u2026 https://t.co/GF4PDlvF53\", \"So excited, my son fixed the bug ....Internet. Missed all of you and hope you had a stress free day. Let\\\\u2019s see what\\\\u2026 https://t.co/E814ySAErG\", \"We may not always be perfect halves, but you make me whole.\\\\u2764\\\\ufe0f https://t.co/oiD2pTEfrS\", \"And especially Lake Spuckly!\", \"#TeamOhana I\\\\u2019m so stupid for not posting this\", \"@kimgoodwin So awesome\"]'"
      ]
     },
     "execution_count": 181,
     "metadata": {},
     "output_type": "execute_result"
    }
   ],
   "source": [
    "tweets_string = json.dumps(tweets)\n",
    "tweets_string"
   ]
  },
  {
   "cell_type": "markdown",
   "metadata": {},
   "source": [
    "## Write Tweets to Disk\n",
    "\n",
    "Using this pattern\n",
    "\n",
    "    with open(filename_as_string, 'w') as outfile:\n",
    "        json.dump(python_object, outfile)\n",
    "        \n",
    "write `tweets` to disk as json."
   ]
  },
  {
   "cell_type": "code",
   "execution_count": 182,
   "metadata": {},
   "outputs": [],
   "source": [
    "with open('tweets.json','w') as outfile:\n",
    "    json.dump(tweets, outfile)"
   ]
  },
  {
   "cell_type": "markdown",
   "metadata": {},
   "source": [
    "## Read Tweets from Disk\n",
    "\n",
    "Using this pattern\n",
    "\n",
    "    with open(filename_as_string) as infile:\n",
    "        json_data=infile.read()\n",
    "        python_object_from_disk = json.loads(json_data)\n",
    "        \n",
    "read the tweets from the json. Store them as `tweets_from_disk`."
   ]
  },
  {
   "cell_type": "code",
   "execution_count": 183,
   "metadata": {},
   "outputs": [],
   "source": [
    "with open('tweets.json') as infile:\n",
    "    json_data=infile.read()\n",
    "    tweets_from_disk = json.loads(json_data)"
   ]
  },
  {
   "cell_type": "markdown",
   "metadata": {},
   "source": [
    "Display `tweets_from_disk` as a DataFrame."
   ]
  },
  {
   "cell_type": "code",
   "execution_count": 184,
   "metadata": {},
   "outputs": [
    {
     "data": {
      "text/plain": [
       "['Wait, what?',\n",
       " 'The kommondandt concurs.',\n",
       " 'Putting that gown today made me realize so much and I’m happy to say I’m proud of myself after everything I’ve been through 😤',\n",
       " 'lesson of the night. don’t steal from Boot Barn or the Hire/Hilvers clan will track you down...',\n",
       " '@tedlieu This is the new Trump emoji. 🤡',\n",
       " 'Where’s my therapist when i need her',\n",
       " \"@michaelkammes But it's a sing a long!! https://t.co/W7zhz580XJ\",\n",
       " 'https://t.co/bo9YHkOpIs',\n",
       " 'Aw I swallowed that foot long 😩',\n",
       " 'A drive to the bay to see my brother is guna do me right 💭',\n",
       " 'I need you in a closer focus https://t.co/7TF0AGrlep',\n",
       " 'Like I said https://t.co/TuyygFOiUY',\n",
       " '@Keanboi27 @reginevalcasid Gusto mo mapanood si Whitney? Char',\n",
       " '@loudibella @RealLuisCollazo @NYCBLive @BryantPerrella Great card',\n",
       " 'my little brother is probably the funniest person i know',\n",
       " '@AmaraBaptist U r actually the best',\n",
       " 'This cruel bastard!',\n",
       " '@csd @medit8now @kylegriffin1 Yes, the laughing surely gave him fits.',\n",
       " 'GYM TIME FUCKERS! 😳',\n",
       " '@themothboy @FoxBusiness @POTUS @IvankaTrump She’s an Amazing #AmericanWoman and Patriot.. sorry your so blinded and #Brainwashed',\n",
       " 'If she wear different type of socks she got good pussy',\n",
       " '@shirhallelujah @unlikelyfanatic Just got home and immediately took two Benadryl 👌🏼',\n",
       " '@oh_dionysis @Mr_Confident_ His too @__Sal',\n",
       " '@DonaldJTrumpJr @DailyCaller 😂😂😂 Poor baby...daddy been treated badly...aww TRAITOR! https://t.co/dC1eiBsV1y',\n",
       " 'hi luv https://t.co/aydfrodde2',\n",
       " \"By Far, the Best @dronecoma Song In Ages. Better Than Anything I've Ever Written (and Certainly Sung)… https://t.co/WmeANbP0ZY\",\n",
       " '@ChrisAssMiller This is why I like you',\n",
       " '@Lawrence A total simbiotic leach on the dear leader, without the semblance of ethics, care and concern for our con… https://t.co/SsvXBrWht3',\n",
       " '@_818teflondon @Paulllyyyyyy @johnny_gee63 @jalessttt @_lemonicaa You a fool bruh!😂',\n",
       " '@cvroliuv_i Daaam date already :/ cboy needs a happily ever after 🎉',\n",
       " \"Ollie is literally cleaning the bottom of Nick's feet. Ok\",\n",
       " '@MiguelDaCutie MW2 Prestige edition 😤',\n",
       " 'https://t.co/vWXrv1hLGi',\n",
       " 'Some people look at my life and say omg it’s so perfect but only if you knew the half.',\n",
       " '@88mugsy88 cookies suck',\n",
       " 'Youth of America!!!',\n",
       " 'imagine losing me',\n",
       " 'HE’S BEATING HIS HEART IN GALLIFREYAN MORSE CODE. #DoctorWho https://t.co/eTwCODb24y',\n",
       " 'Niggas out here bein Xtra safe smhhh roll the dice man!!! 🤣🤣',\n",
       " 'USGS reports a M0.38 #earthquake 7km SE of Valle Vista, CA on 7/20/18 @ 3:47:50 UTC https://t.co/3XAt0ozd4q #quake',\n",
       " 'Socialite, Influencer, Model, &amp; Actress Gigi Gorgeous joined us on the show today to talk stereotypes, online bully… https://t.co/utnTN3S38d',\n",
       " '@kevinsmpark @MengTo 🙌',\n",
       " '@realDonaldTrump Traitor! #RussianCollusion #RussianPuppet #TraitorInTheWhiteHouse #TraitorTrump',\n",
       " '@katiesalazar  https://t.co/3Qhn2Zd0Ms',\n",
       " 'Family trip INTO THE FOREST nazzy_peace skatergirlkai  #family #familytrip #familytime #portolastatepark #lahonda… https://t.co/GF4PDlvF53',\n",
       " 'So excited, my son fixed the bug ....Internet. Missed all of you and hope you had a stress free day. Let’s see what… https://t.co/E814ySAErG',\n",
       " 'We may not always be perfect halves, but you make me whole.❤️ https://t.co/oiD2pTEfrS',\n",
       " 'And especially Lake Spuckly!',\n",
       " '#TeamOhana I’m so stupid for not posting this',\n",
       " '@kimgoodwin So awesome']"
      ]
     },
     "execution_count": 184,
     "metadata": {},
     "output_type": "execute_result"
    }
   ],
   "source": [
    "tweets_from_disk"
   ]
  },
  {
   "cell_type": "code",
   "execution_count": 185,
   "metadata": {},
   "outputs": [
    {
     "data": {
      "text/html": [
       "<div>\n",
       "<style scoped>\n",
       "    .dataframe tbody tr th:only-of-type {\n",
       "        vertical-align: middle;\n",
       "    }\n",
       "\n",
       "    .dataframe tbody tr th {\n",
       "        vertical-align: top;\n",
       "    }\n",
       "\n",
       "    .dataframe thead th {\n",
       "        text-align: right;\n",
       "    }\n",
       "</style>\n",
       "<table border=\"1\" class=\"dataframe\">\n",
       "  <thead>\n",
       "    <tr style=\"text-align: right;\">\n",
       "      <th></th>\n",
       "      <th>0</th>\n",
       "    </tr>\n",
       "  </thead>\n",
       "  <tbody>\n",
       "    <tr>\n",
       "      <th>0</th>\n",
       "      <td>Wait, what?</td>\n",
       "    </tr>\n",
       "    <tr>\n",
       "      <th>1</th>\n",
       "      <td>The kommondandt concurs.</td>\n",
       "    </tr>\n",
       "    <tr>\n",
       "      <th>2</th>\n",
       "      <td>Putting that gown today made me realize so muc...</td>\n",
       "    </tr>\n",
       "    <tr>\n",
       "      <th>3</th>\n",
       "      <td>lesson of the night. don’t steal from Boot Bar...</td>\n",
       "    </tr>\n",
       "    <tr>\n",
       "      <th>4</th>\n",
       "      <td>@tedlieu This is the new Trump emoji. 🤡</td>\n",
       "    </tr>\n",
       "    <tr>\n",
       "      <th>5</th>\n",
       "      <td>Where’s my therapist when i need her</td>\n",
       "    </tr>\n",
       "    <tr>\n",
       "      <th>6</th>\n",
       "      <td>@michaelkammes But it's a sing a long!! https:...</td>\n",
       "    </tr>\n",
       "    <tr>\n",
       "      <th>7</th>\n",
       "      <td>https://t.co/bo9YHkOpIs</td>\n",
       "    </tr>\n",
       "    <tr>\n",
       "      <th>8</th>\n",
       "      <td>Aw I swallowed that foot long 😩</td>\n",
       "    </tr>\n",
       "    <tr>\n",
       "      <th>9</th>\n",
       "      <td>A drive to the bay to see my brother is guna d...</td>\n",
       "    </tr>\n",
       "    <tr>\n",
       "      <th>10</th>\n",
       "      <td>I need you in a closer focus https://t.co/7TF0...</td>\n",
       "    </tr>\n",
       "    <tr>\n",
       "      <th>11</th>\n",
       "      <td>Like I said https://t.co/TuyygFOiUY</td>\n",
       "    </tr>\n",
       "    <tr>\n",
       "      <th>12</th>\n",
       "      <td>@Keanboi27 @reginevalcasid Gusto mo mapanood s...</td>\n",
       "    </tr>\n",
       "    <tr>\n",
       "      <th>13</th>\n",
       "      <td>@loudibella @RealLuisCollazo @NYCBLive @Bryant...</td>\n",
       "    </tr>\n",
       "    <tr>\n",
       "      <th>14</th>\n",
       "      <td>my little brother is probably the funniest per...</td>\n",
       "    </tr>\n",
       "    <tr>\n",
       "      <th>15</th>\n",
       "      <td>@AmaraBaptist U r actually the best</td>\n",
       "    </tr>\n",
       "    <tr>\n",
       "      <th>16</th>\n",
       "      <td>This cruel bastard!</td>\n",
       "    </tr>\n",
       "    <tr>\n",
       "      <th>17</th>\n",
       "      <td>@csd @medit8now @kylegriffin1 Yes, the laughin...</td>\n",
       "    </tr>\n",
       "    <tr>\n",
       "      <th>18</th>\n",
       "      <td>GYM TIME FUCKERS! 😳</td>\n",
       "    </tr>\n",
       "    <tr>\n",
       "      <th>19</th>\n",
       "      <td>@themothboy @FoxBusiness @POTUS @IvankaTrump S...</td>\n",
       "    </tr>\n",
       "    <tr>\n",
       "      <th>20</th>\n",
       "      <td>If she wear different type of socks she got go...</td>\n",
       "    </tr>\n",
       "    <tr>\n",
       "      <th>21</th>\n",
       "      <td>@shirhallelujah @unlikelyfanatic Just got home...</td>\n",
       "    </tr>\n",
       "    <tr>\n",
       "      <th>22</th>\n",
       "      <td>@oh_dionysis @Mr_Confident_ His too @__Sal</td>\n",
       "    </tr>\n",
       "    <tr>\n",
       "      <th>23</th>\n",
       "      <td>@DonaldJTrumpJr @DailyCaller 😂😂😂 Poor baby...d...</td>\n",
       "    </tr>\n",
       "    <tr>\n",
       "      <th>24</th>\n",
       "      <td>hi luv https://t.co/aydfrodde2</td>\n",
       "    </tr>\n",
       "    <tr>\n",
       "      <th>25</th>\n",
       "      <td>By Far, the Best @dronecoma Song In Ages. Bett...</td>\n",
       "    </tr>\n",
       "    <tr>\n",
       "      <th>26</th>\n",
       "      <td>@ChrisAssMiller This is why I like you</td>\n",
       "    </tr>\n",
       "    <tr>\n",
       "      <th>27</th>\n",
       "      <td>@Lawrence A total simbiotic leach on the dear ...</td>\n",
       "    </tr>\n",
       "    <tr>\n",
       "      <th>28</th>\n",
       "      <td>@_818teflondon @Paulllyyyyyy @johnny_gee63 @ja...</td>\n",
       "    </tr>\n",
       "    <tr>\n",
       "      <th>29</th>\n",
       "      <td>@cvroliuv_i Daaam date already :/ cboy needs a...</td>\n",
       "    </tr>\n",
       "    <tr>\n",
       "      <th>30</th>\n",
       "      <td>Ollie is literally cleaning the bottom of Nick...</td>\n",
       "    </tr>\n",
       "    <tr>\n",
       "      <th>31</th>\n",
       "      <td>@MiguelDaCutie MW2 Prestige edition 😤</td>\n",
       "    </tr>\n",
       "    <tr>\n",
       "      <th>32</th>\n",
       "      <td>https://t.co/vWXrv1hLGi</td>\n",
       "    </tr>\n",
       "    <tr>\n",
       "      <th>33</th>\n",
       "      <td>Some people look at my life and say omg it’s s...</td>\n",
       "    </tr>\n",
       "    <tr>\n",
       "      <th>34</th>\n",
       "      <td>@88mugsy88 cookies suck</td>\n",
       "    </tr>\n",
       "    <tr>\n",
       "      <th>35</th>\n",
       "      <td>Youth of America!!!</td>\n",
       "    </tr>\n",
       "    <tr>\n",
       "      <th>36</th>\n",
       "      <td>imagine losing me</td>\n",
       "    </tr>\n",
       "    <tr>\n",
       "      <th>37</th>\n",
       "      <td>HE’S BEATING HIS HEART IN GALLIFREYAN MORSE CO...</td>\n",
       "    </tr>\n",
       "    <tr>\n",
       "      <th>38</th>\n",
       "      <td>Niggas out here bein Xtra safe smhhh roll the ...</td>\n",
       "    </tr>\n",
       "    <tr>\n",
       "      <th>39</th>\n",
       "      <td>USGS reports a M0.38 #earthquake 7km SE of Val...</td>\n",
       "    </tr>\n",
       "    <tr>\n",
       "      <th>40</th>\n",
       "      <td>Socialite, Influencer, Model, &amp;amp; Actress Gi...</td>\n",
       "    </tr>\n",
       "    <tr>\n",
       "      <th>41</th>\n",
       "      <td>@kevinsmpark @MengTo 🙌</td>\n",
       "    </tr>\n",
       "    <tr>\n",
       "      <th>42</th>\n",
       "      <td>@realDonaldTrump Traitor! #RussianCollusion #R...</td>\n",
       "    </tr>\n",
       "    <tr>\n",
       "      <th>43</th>\n",
       "      <td>@katiesalazar  https://t.co/3Qhn2Zd0Ms</td>\n",
       "    </tr>\n",
       "    <tr>\n",
       "      <th>44</th>\n",
       "      <td>Family trip INTO THE FOREST nazzy_peace skater...</td>\n",
       "    </tr>\n",
       "    <tr>\n",
       "      <th>45</th>\n",
       "      <td>So excited, my son fixed the bug ....Internet....</td>\n",
       "    </tr>\n",
       "    <tr>\n",
       "      <th>46</th>\n",
       "      <td>We may not always be perfect halves, but you m...</td>\n",
       "    </tr>\n",
       "    <tr>\n",
       "      <th>47</th>\n",
       "      <td>And especially Lake Spuckly!</td>\n",
       "    </tr>\n",
       "    <tr>\n",
       "      <th>48</th>\n",
       "      <td>#TeamOhana I’m so stupid for not posting this</td>\n",
       "    </tr>\n",
       "    <tr>\n",
       "      <th>49</th>\n",
       "      <td>@kimgoodwin So awesome</td>\n",
       "    </tr>\n",
       "  </tbody>\n",
       "</table>\n",
       "</div>"
      ],
      "text/plain": [
       "                                                    0\n",
       "0                                         Wait, what?\n",
       "1                            The kommondandt concurs.\n",
       "2   Putting that gown today made me realize so muc...\n",
       "3   lesson of the night. don’t steal from Boot Bar...\n",
       "4             @tedlieu This is the new Trump emoji. 🤡\n",
       "5                Where’s my therapist when i need her\n",
       "6   @michaelkammes But it's a sing a long!! https:...\n",
       "7                             https://t.co/bo9YHkOpIs\n",
       "8                     Aw I swallowed that foot long 😩\n",
       "9   A drive to the bay to see my brother is guna d...\n",
       "10  I need you in a closer focus https://t.co/7TF0...\n",
       "11                Like I said https://t.co/TuyygFOiUY\n",
       "12  @Keanboi27 @reginevalcasid Gusto mo mapanood s...\n",
       "13  @loudibella @RealLuisCollazo @NYCBLive @Bryant...\n",
       "14  my little brother is probably the funniest per...\n",
       "15                @AmaraBaptist U r actually the best\n",
       "16                                This cruel bastard!\n",
       "17  @csd @medit8now @kylegriffin1 Yes, the laughin...\n",
       "18                                GYM TIME FUCKERS! 😳\n",
       "19  @themothboy @FoxBusiness @POTUS @IvankaTrump S...\n",
       "20  If she wear different type of socks she got go...\n",
       "21  @shirhallelujah @unlikelyfanatic Just got home...\n",
       "22         @oh_dionysis @Mr_Confident_ His too @__Sal\n",
       "23  @DonaldJTrumpJr @DailyCaller 😂😂😂 Poor baby...d...\n",
       "24                     hi luv https://t.co/aydfrodde2\n",
       "25  By Far, the Best @dronecoma Song In Ages. Bett...\n",
       "26             @ChrisAssMiller This is why I like you\n",
       "27  @Lawrence A total simbiotic leach on the dear ...\n",
       "28  @_818teflondon @Paulllyyyyyy @johnny_gee63 @ja...\n",
       "29  @cvroliuv_i Daaam date already :/ cboy needs a...\n",
       "30  Ollie is literally cleaning the bottom of Nick...\n",
       "31              @MiguelDaCutie MW2 Prestige edition 😤\n",
       "32                            https://t.co/vWXrv1hLGi\n",
       "33  Some people look at my life and say omg it’s s...\n",
       "34                            @88mugsy88 cookies suck\n",
       "35                                Youth of America!!!\n",
       "36                                  imagine losing me\n",
       "37  HE’S BEATING HIS HEART IN GALLIFREYAN MORSE CO...\n",
       "38  Niggas out here bein Xtra safe smhhh roll the ...\n",
       "39  USGS reports a M0.38 #earthquake 7km SE of Val...\n",
       "40  Socialite, Influencer, Model, &amp; Actress Gi...\n",
       "41                             @kevinsmpark @MengTo 🙌\n",
       "42  @realDonaldTrump Traitor! #RussianCollusion #R...\n",
       "43             @katiesalazar  https://t.co/3Qhn2Zd0Ms\n",
       "44  Family trip INTO THE FOREST nazzy_peace skater...\n",
       "45  So excited, my son fixed the bug ....Internet....\n",
       "46  We may not always be perfect halves, but you m...\n",
       "47                       And especially Lake Spuckly!\n",
       "48      #TeamOhana I’m so stupid for not posting this\n",
       "49                             @kimgoodwin So awesome"
      ]
     },
     "execution_count": 185,
     "metadata": {},
     "output_type": "execute_result"
    }
   ],
   "source": [
    "pd.DataFrame(tweets_from_disk)"
   ]
  },
  {
   "cell_type": "code",
   "execution_count": null,
   "metadata": {},
   "outputs": [],
   "source": []
  }
 ],
 "metadata": {
  "kernelspec": {
   "display_name": "Python 3",
   "language": "python",
   "name": "python3"
  },
  "language_info": {
   "codemirror_mode": {
    "name": "ipython",
    "version": 3
   },
   "file_extension": ".py",
   "mimetype": "text/x-python",
   "name": "python",
   "nbconvert_exporter": "python",
   "pygments_lexer": "ipython3",
   "version": "3.6.5"
  }
 },
 "nbformat": 4,
 "nbformat_minor": 2
}
